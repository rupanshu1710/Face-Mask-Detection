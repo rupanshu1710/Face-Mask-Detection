{
  "nbformat": 4,
  "nbformat_minor": 0,
  "metadata": {
    "colab": {
      "name": "Face_Mask Detection.ipynb",
      "provenance": [],
      "collapsed_sections": [],
      "mount_file_id": "1YBlYV5VqrEAOjjPzOzCkutyTr0Z52RpG",
      "authorship_tag": "ABX9TyM3FfgHHxqFvz7jYQNuI3pJ",
      "include_colab_link": true
    },
    "kernelspec": {
      "name": "python3",
      "display_name": "Python 3"
    },
    "accelerator": "GPU"
  },
  "cells": [
    {
      "cell_type": "markdown",
      "metadata": {
        "id": "view-in-github",
        "colab_type": "text"
      },
      "source": [
        "<a href=\"https://colab.research.google.com/github/rupanshu1710/Face-Mask-Detection/blob/main/Face_Mask_Detection.ipynb\" target=\"_parent\"><img src=\"https://colab.research.google.com/assets/colab-badge.svg\" alt=\"Open In Colab\"/></a>"
      ]
    },
    {
      "cell_type": "code",
      "metadata": {
        "colab": {
          "base_uri": "https://localhost:8080/"
        },
        "id": "FtftYHWqZmzx",
        "outputId": "f27bad69-7276-4d38-85ff-793bf0f21224"
      },
      "source": [
        "from google.colab import drive\n",
        "drive.mount('/content/drive')"
      ],
      "execution_count": null,
      "outputs": [
        {
          "output_type": "stream",
          "text": [
            "Drive already mounted at /content/drive; to attempt to forcibly remount, call drive.mount(\"/content/drive\", force_remount=True).\n"
          ],
          "name": "stdout"
        }
      ]
    },
    {
      "cell_type": "code",
      "metadata": {
        "id": "ZfLSXj6Cp_M6"
      },
      "source": [
        "from tensorflow.keras.preprocessing.image import ImageDataGenerator\n",
        "from tensorflow.keras.applications import MobileNetV2\n",
        "from tensorflow.keras.layers import AveragePooling2D\n",
        "from tensorflow.keras.layers import Dropout\n",
        "from tensorflow.keras.layers import Flatten\n",
        "from tensorflow.keras.layers import Dense\n",
        "from tensorflow.keras.layers import Input\n",
        "from tensorflow.keras.models import Model\n",
        "from tensorflow.keras.optimizers import Adam\n",
        "from tensorflow.keras.applications.mobilenet_v2 import preprocess_input\n",
        "from tensorflow.keras.preprocessing.image import img_to_array\n",
        "from tensorflow.keras.preprocessing.image import load_img\n",
        "from tensorflow.keras.utils import to_categorical\n",
        "from sklearn.preprocessing import LabelBinarizer\n",
        "from sklearn.model_selection import train_test_split\n",
        "from sklearn.metrics import classification_report\n",
        "from imutils import paths\n",
        "import matplotlib.pyplot as plt\n",
        "import numpy as np\n",
        "import os"
      ],
      "execution_count": null,
      "outputs": []
    },
    {
      "cell_type": "code",
      "metadata": {
        "id": "kEtLyu1SBheZ",
        "colab": {
          "base_uri": "https://localhost:8080/"
        },
        "outputId": "93a36c23-57d8-415f-968c-c744121c7997"
      },
      "source": [
        "#Data Preprocessing\n",
        "INIT_LR = 1e-4\n",
        "EPOCHS = 30\n",
        "BS = 32\n",
        "\n",
        "DIRECTORY = \"/content/drive/MyDrive/Face-Mask-Detection/dataset\"\n",
        "CATEGORIES = [\"with_mask\",\"without_mask\"]\n",
        "\n",
        "print(\"[INFO] loading images...\")\n",
        "\n",
        "data = []\n",
        "labels = []\n",
        "\n",
        "for category in CATEGORIES:\n",
        "    path = os.path.join(DIRECTORY, category)\n",
        "    for img in os.listdir(path):\n",
        "    \timg_path = os.path.join(path, img)\n",
        "    \timage = load_img(img_path, target_size=(256,256))\n",
        "    \timage = img_to_array(image)\n",
        "    \timage = preprocess_input(image)\n",
        "\n",
        "    \tdata.append(image)\n",
        "    \tlabels.append(category)\n",
        "\n",
        "lb = LabelBinarizer()\n",
        "labels = lb.fit_transform(labels)#(\tFit label binarizer and transform multi-class labels to binary labels)\n",
        "labels = to_categorical(labels)#(https://www.geeksforgeeks.org/python-keras-keras-utils-to_categorical/)\n",
        "\n",
        "data = np.array(data,dtype=\"float32\")\n",
        "labels = np.array(labels)\n",
        "\n",
        "#split the data\n",
        "(trainX, testX, trainY, testY) = train_test_split(data, labels,\n",
        "\ttest_size=0.20, stratify=labels, random_state=42)\n",
        "\n",
        "#data augmentation\n",
        "Augmented_data = ImageDataGenerator(\n",
        "\trotation_range=20,\n",
        "\tzoom_range=0.15,\n",
        "\twidth_shift_range=0.2,\n",
        "\theight_shift_range=0.2,\n",
        "\tshear_range=0.15,\n",
        "\thorizontal_flip=True,\n",
        "\tfill_mode=\"nearest\")\n",
        "           \n",
        "\n",
        "\n",
        "\n"
      ],
      "execution_count": null,
      "outputs": [
        {
          "output_type": "stream",
          "text": [
            "[INFO] loading images...\n"
          ],
          "name": "stdout"
        },
        {
          "output_type": "stream",
          "text": [
            "/usr/local/lib/python3.6/dist-packages/PIL/Image.py:932: UserWarning: Palette images with Transparency expressed in bytes should be converted to RGBA images\n",
            "  \"Palette images with Transparency expressed in bytes should be \"\n"
          ],
          "name": "stderr"
        }
      ]
    },
    {
      "cell_type": "code",
      "metadata": {
        "colab": {
          "base_uri": "https://localhost:8080/",
          "height": 1000
        },
        "id": "jrMm5E_hcO-s",
        "outputId": "34a612da-1467-4714-f64b-54968e5cbf81"
      },
      "source": [
        "#Build the model\n",
        "base_model = MobileNetV2(include_top=False,weights=\"imagenet\",input_tensor=Input(shape=(256,256, 3)))\n",
        "base_model_output = base_model.output\n",
        "layer1 = AveragePooling2D(pool_size=(7,7))(base_model_output)\n",
        "layer2 = Flatten(name = 'Flatten')(layer1)\n",
        "layer3 = Dense(128, activation='relu')(layer2)\n",
        "layer4 = Dropout(0.2)(layer3)\n",
        "head_model = Dense(2, activation='softmax')(layer4)\n",
        "\n",
        "model = Model(inputs=base_model.input, outputs=head_model)\n",
        "\n",
        "for layer in base_model.layers:\n",
        "  layer.trainable = False\n",
        "\n",
        "# compile our model\n",
        "print(\"[INFO] compiling model...\")\n",
        "opt = Adam(lr=INIT_LR, decay=INIT_LR / EPOCHS)\n",
        "model.compile(loss=\"binary_crossentropy\", optimizer=opt,\n",
        "\tmetrics=[\"accuracy\"])\n",
        "\n",
        "# train the head of the network\n",
        "print(\"[INFO] training head...\")\n",
        "H = model.fit(\n",
        "\tAugmented_data.flow(trainX, trainY, batch_size=BS),\n",
        "\tsteps_per_epoch=len(trainX) // BS,\n",
        "\tvalidation_data=(testX, testY),\n",
        "\tvalidation_steps=len(testX) // BS,\n",
        "\tepochs=EPOCHS)\n",
        "\n",
        "# make predictions on the testing set\n",
        "print(\"[INFO] evaluating network...\")\n",
        "predIdxs = model.predict(testX, batch_size=BS)\n",
        "\n",
        "# for each image in the testing set we need to find the index of the\n",
        "# label with corresponding largest predicted probability\n",
        "predIdxs = np.argmax(predIdxs, axis=1)\n",
        "\n",
        "# show a nicely formatted classification report\n",
        "print(classification_report(testY.argmax(axis=1), predIdxs,\n",
        "\ttarget_names=lb.classes_))\n",
        "\n",
        "# serialize the model to disk\n",
        "print(\"[INFO] saving mask detector model...\")\n",
        "model.save(\"mask_detector.model\", save_format=\"h5\")\n",
        "\n",
        "# plot the training loss and accuracy\n",
        "N = EPOCHS\n",
        "plt.style.use(\"ggplot\")\n",
        "plt.figure()\n",
        "plt.plot(np.arange(0, N), H.history[\"loss\"], label=\"train_loss\")\n",
        "plt.plot(np.arange(0, N), H.history[\"val_loss\"], label=\"val_loss\")\n",
        "plt.plot(np.arange(0, N), H.history[\"accuracy\"], label=\"train_acc\")\n",
        "plt.plot(np.arange(0, N), H.history[\"val_accuracy\"], label=\"val_acc\")\n",
        "plt.title(\"Training Loss and Accuracy\")\n",
        "plt.xlabel(\"Epoch #\")\n",
        "plt.ylabel(\"Loss/Accuracy\")\n",
        "plt.legend(loc=\"lower left\")\n",
        "plt.savefig(\"plot.png\")\n",
        "\n"
      ],
      "execution_count": null,
      "outputs": [
        {
          "output_type": "stream",
          "text": [
            "WARNING:tensorflow:`input_shape` is undefined or non-square, or `rows` is not in [96, 128, 160, 192, 224]. Weights for input shape (224, 224) will be loaded as the default.\n",
            "[INFO] compiling model...\n",
            "[INFO] training head...\n",
            "Epoch 1/30\n",
            "96/96 [==============================] - 43s 422ms/step - loss: 0.4344 - accuracy: 0.8334 - val_loss: 0.0962 - val_accuracy: 0.9819\n",
            "Epoch 2/30\n",
            "96/96 [==============================] - 40s 415ms/step - loss: 0.1081 - accuracy: 0.9772 - val_loss: 0.0606 - val_accuracy: 0.9806\n",
            "Epoch 3/30\n",
            "96/96 [==============================] - 39s 410ms/step - loss: 0.0706 - accuracy: 0.9841 - val_loss: 0.0484 - val_accuracy: 0.9832\n",
            "Epoch 4/30\n",
            "96/96 [==============================] - 40s 412ms/step - loss: 0.0519 - accuracy: 0.9876 - val_loss: 0.0453 - val_accuracy: 0.9845\n",
            "Epoch 5/30\n",
            "96/96 [==============================] - 40s 412ms/step - loss: 0.0486 - accuracy: 0.9829 - val_loss: 0.0408 - val_accuracy: 0.9806\n",
            "Epoch 6/30\n",
            "96/96 [==============================] - 40s 411ms/step - loss: 0.0354 - accuracy: 0.9915 - val_loss: 0.0382 - val_accuracy: 0.9806\n",
            "Epoch 7/30\n",
            "96/96 [==============================] - 39s 411ms/step - loss: 0.0334 - accuracy: 0.9926 - val_loss: 0.0357 - val_accuracy: 0.9832\n",
            "Epoch 8/30\n",
            "96/96 [==============================] - 40s 412ms/step - loss: 0.0394 - accuracy: 0.9892 - val_loss: 0.0328 - val_accuracy: 0.9858\n",
            "Epoch 9/30\n",
            "96/96 [==============================] - 39s 410ms/step - loss: 0.0278 - accuracy: 0.9942 - val_loss: 0.0304 - val_accuracy: 0.9858\n",
            "Epoch 10/30\n",
            "96/96 [==============================] - 40s 412ms/step - loss: 0.0243 - accuracy: 0.9933 - val_loss: 0.0297 - val_accuracy: 0.9884\n",
            "Epoch 11/30\n",
            "96/96 [==============================] - 39s 410ms/step - loss: 0.0286 - accuracy: 0.9894 - val_loss: 0.0270 - val_accuracy: 0.9884\n",
            "Epoch 12/30\n",
            "96/96 [==============================] - 39s 411ms/step - loss: 0.0241 - accuracy: 0.9932 - val_loss: 0.0250 - val_accuracy: 0.9884\n",
            "Epoch 13/30\n",
            "96/96 [==============================] - 39s 409ms/step - loss: 0.0220 - accuracy: 0.9932 - val_loss: 0.0249 - val_accuracy: 0.9897\n",
            "Epoch 14/30\n",
            "96/96 [==============================] - 40s 413ms/step - loss: 0.0244 - accuracy: 0.9920 - val_loss: 0.0240 - val_accuracy: 0.9897\n",
            "Epoch 15/30\n",
            "96/96 [==============================] - 40s 418ms/step - loss: 0.0172 - accuracy: 0.9978 - val_loss: 0.0238 - val_accuracy: 0.9884\n",
            "Epoch 16/30\n",
            "96/96 [==============================] - 41s 423ms/step - loss: 0.0205 - accuracy: 0.9939 - val_loss: 0.0238 - val_accuracy: 0.9897\n",
            "Epoch 17/30\n",
            "96/96 [==============================] - 40s 414ms/step - loss: 0.0197 - accuracy: 0.9940 - val_loss: 0.0236 - val_accuracy: 0.9884\n",
            "Epoch 18/30\n",
            "96/96 [==============================] - 40s 413ms/step - loss: 0.0165 - accuracy: 0.9953 - val_loss: 0.0266 - val_accuracy: 0.9884\n",
            "Epoch 19/30\n",
            "96/96 [==============================] - 40s 412ms/step - loss: 0.0179 - accuracy: 0.9957 - val_loss: 0.0244 - val_accuracy: 0.9897\n",
            "Epoch 20/30\n",
            "96/96 [==============================] - 39s 411ms/step - loss: 0.0141 - accuracy: 0.9962 - val_loss: 0.0218 - val_accuracy: 0.9923\n",
            "Epoch 21/30\n",
            "96/96 [==============================] - 39s 409ms/step - loss: 0.0148 - accuracy: 0.9961 - val_loss: 0.0221 - val_accuracy: 0.9897\n",
            "Epoch 22/30\n",
            "96/96 [==============================] - 39s 411ms/step - loss: 0.0141 - accuracy: 0.9944 - val_loss: 0.0203 - val_accuracy: 0.9923\n",
            "Epoch 23/30\n",
            "96/96 [==============================] - 39s 411ms/step - loss: 0.0104 - accuracy: 0.9985 - val_loss: 0.0252 - val_accuracy: 0.9871\n",
            "Epoch 24/30\n",
            "96/96 [==============================] - 40s 414ms/step - loss: 0.0136 - accuracy: 0.9963 - val_loss: 0.0184 - val_accuracy: 0.9935\n",
            "Epoch 25/30\n",
            "96/96 [==============================] - 40s 412ms/step - loss: 0.0112 - accuracy: 0.9979 - val_loss: 0.0185 - val_accuracy: 0.9910\n",
            "Epoch 26/30\n",
            "96/96 [==============================] - 40s 412ms/step - loss: 0.0115 - accuracy: 0.9974 - val_loss: 0.0190 - val_accuracy: 0.9910\n",
            "Epoch 27/30\n",
            "96/96 [==============================] - 40s 413ms/step - loss: 0.0112 - accuracy: 0.9959 - val_loss: 0.0175 - val_accuracy: 0.9948\n",
            "Epoch 28/30\n",
            "96/96 [==============================] - 40s 414ms/step - loss: 0.0113 - accuracy: 0.9974 - val_loss: 0.0162 - val_accuracy: 0.9923\n",
            "Epoch 29/30\n",
            "96/96 [==============================] - 39s 409ms/step - loss: 0.0149 - accuracy: 0.9970 - val_loss: 0.0174 - val_accuracy: 0.9923\n",
            "Epoch 30/30\n",
            "96/96 [==============================] - 39s 411ms/step - loss: 0.0162 - accuracy: 0.9941 - val_loss: 0.0159 - val_accuracy: 0.9935\n",
            "[INFO] evaluating network...\n",
            "              precision    recall  f1-score   support\n",
            "\n",
            "   with_mask       0.99      0.99      0.99       391\n",
            "without_mask       0.99      0.99      0.99       384\n",
            "\n",
            "    accuracy                           0.99       775\n",
            "   macro avg       0.99      0.99      0.99       775\n",
            "weighted avg       0.99      0.99      0.99       775\n",
            "\n",
            "[INFO] saving mask detector model...\n"
          ],
          "name": "stdout"
        },
        {
          "output_type": "display_data",
          "data": {
            "image/png": "[encoded data removed]",
            "text/plain": [
              "<Figure size 432x288 with 1 Axes>"
            ]
          },
          "metadata": {
            "tags": []
          }
        }
      ]
    },
    {
      "cell_type": "code",
      "metadata": {
        "id": "DUh1cahRYUN9"
      },
      "source": [
        ""
      ],
      "execution_count": null,
      "outputs": []
    }
  ]
}